{
  "nbformat": 4,
  "nbformat_minor": 0,
  "metadata": {
    "colab": {
      "name": "Deep Double Q Learning For Gym Super Mario.ipynb",
      "provenance": [],
      "authorship_tag": "ABX9TyMhGCGkxFGAI/O/+exQhKD9",
      "include_colab_link": true
    },
    "kernelspec": {
      "name": "python3",
      "display_name": "Python 3"
    },
    "accelerator": "GPU"
  },
  "cells": [
    {
      "cell_type": "markdown",
      "metadata": {
        "id": "view-in-github",
        "colab_type": "text"
      },
      "source": [
        "<a href=\"https://colab.research.google.com/github/tiennvuit/DRL_Gym_Mario/blob/master/Deep_Double_Q_Learning_For_Gym_Super_Mario.ipynb\" target=\"_parent\"><img src=\"https://colab.research.google.com/assets/colab-badge.svg\" alt=\"Open In Colab\"/></a>"
      ]
    },
    {
      "cell_type": "code",
      "metadata": {
        "id": "eJwSvyGZyd3T",
        "colab_type": "code",
        "colab": {}
      },
      "source": [
        "! git clone https://github.com/tiennvuit/DRL_Gym_Mario"
      ],
      "execution_count": null,
      "outputs": []
    }
  ]
}