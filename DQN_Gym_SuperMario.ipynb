{
  "nbformat": 4,
  "nbformat_minor": 0,
  "metadata": {
    "colab": {
      "name": "Deep Q Network for Super Mario Bros.ipynb",
      "provenance": [],
      "private_outputs": true,
      "collapsed_sections": [],
      "authorship_tag": "ABX9TyMn3nxVbAWysFxosPYeMAEr",
      "include_colab_link": true
    },
    "kernelspec": {
      "name": "python3",
      "display_name": "Python 3"
    },
    "accelerator": "GPU"
  },
  "cells": [
    {
      "cell_type": "markdown",
      "metadata": {
        "id": "view-in-github",
        "colab_type": "text"
      },
      "source": [
        "<a href=\"https://colab.research.google.com/github/tiennvuit/DRL_Gym_Mario/blob/master/DQN_Gym_SuperMario.ipynb\" target=\"_parent\"><img src=\"https://colab.research.google.com/assets/colab-badge.svg\" alt=\"Open In Colab\"/></a>"
      ]
    },
    {
      "cell_type": "code",
      "metadata": {
        "id": "OGHCmgWLeO5T",
        "colab_type": "code",
        "colab": {}
      },
      "source": [
        "! git clone https://github.com/tiennvuit/DRL_Gym_Mario.git"
      ],
      "execution_count": null,
      "outputs": []
    },
    {
      "cell_type": "code",
      "metadata": {
        "id": "Eso-eKxcfhz2",
        "colab_type": "code",
        "colab": {}
      },
      "source": [
        "%cd DRL_Gym_Mario/"
      ],
      "execution_count": null,
      "outputs": []
    },
    {
      "cell_type": "code",
      "metadata": {
        "id": "mEVc2NcXftSR",
        "colab_type": "code",
        "colab": {}
      },
      "source": [
        "! pip install gym_super_mario_bros\n",
        "! pip install tensorflow-gpu==2.2.0\n",
        "! pip install opencv-python"
      ],
      "execution_count": null,
      "outputs": []
    },
    {
      "cell_type": "code",
      "metadata": {
        "id": "lY6aIVhxhz0h",
        "colab_type": "code",
        "colab": {}
      },
      "source": [
        "! python main.py -m train -p 1 -r 0"
      ],
      "execution_count": null,
      "outputs": []
    },
    {
      "cell_type": "code",
      "metadata": {
        "id": "R0XoRvyDm0ky",
        "colab_type": "code",
        "colab": {}
      },
      "source": [
        ""
      ],
      "execution_count": null,
      "outputs": []
    }
  ]
}