{
 "cells": [
  {
   "cell_type": "code",
   "execution_count": 5,
   "metadata": {
    "ExecuteTime": {
     "end_time": "2020-07-14T14:25:23.296837Z",
     "start_time": "2020-07-14T14:25:23.291845Z"
    }
   },
   "outputs": [],
   "source": [
    "import gym_super_mario_bros\n",
    "from nes_py.wrappers import JoypadSpace\n",
    "\n",
    "from actions import ACTION_SPACES\n",
    "import cv2"
   ]
  },
  {
   "cell_type": "code",
   "execution_count": 6,
   "metadata": {
    "ExecuteTime": {
     "end_time": "2020-07-14T14:25:24.914840Z",
     "start_time": "2020-07-14T14:25:24.407839Z"
    }
   },
   "outputs": [],
   "source": [
    "# build the environment with the given ID\n",
    "env = gym_super_mario_bros.make('SuperMarioBros-v0')\n",
    "# wrap the environment with an action space if specified\n",
    "env = JoypadSpace(env, ACTION_SPACES['simple'])"
   ]
  },
  {
   "cell_type": "code",
   "execution_count": null,
   "metadata": {
    "ExecuteTime": {
     "start_time": "2020-07-14T14:35:35.543Z"
    }
   },
   "outputs": [],
   "source": [
    "done = True\n",
    "\n",
    "observation = observation.astype(np.uint8)\n",
    "\n",
    "while True:\n",
    "    if done:\n",
    "        env.reset()\n",
    "        \n",
    "    action = env.action_space.sample()\n",
    "    observation, done, reward, info = env.step(action)\n",
    "\n",
    "    observation = cv2.rectangle(observation, \n",
    "                                (info['x_pos'] - 3, info['y_pos'] - 3), \n",
    "                                (info['x_pos'] + 3, info['y_pos'] + 3),\n",
    "                                (0, 0, 255), 1)\n",
    "\n",
    "    cv2.imshow('Draw', observation)\n",
    "    cv2.waitKey(0)\n",
    "    \n",
    "cv2.destroyAllWindows()"
   ]
  },
  {
   "cell_type": "code",
   "execution_count": 10,
   "metadata": {
    "ExecuteTime": {
     "end_time": "2020-07-14T14:28:49.571711Z",
     "start_time": "2020-07-14T14:27:10.726843Z"
    }
   },
   "outputs": [],
   "source": []
  },
  {
   "cell_type": "code",
   "execution_count": 16,
   "metadata": {
    "ExecuteTime": {
     "end_time": "2020-07-14T14:29:54.654810Z",
     "start_time": "2020-07-14T14:29:54.139807Z"
    }
   },
   "outputs": [
    {
     "name": "stdout",
     "output_type": "stream",
     "text": [
      "<class 'PIL.PngImagePlugin.PngImageFile'>\n",
      "<class 'PIL.Image.Image'>\n",
      "<class 'numpy.ndarray'>\n"
     ]
    }
   ],
   "source": [
    "import pyscreenshot as ImageGrab\n",
    "import PIL\n",
    "import cv2\n",
    "import numpy as np\n",
    "\n",
    "im=ImageGrab.grab(bbox=(65,50,835,725)) # X1,Y1,X2,Y2\n",
    "print(type(im))\n",
    "im=im.convert('RGB')\n",
    "print(type(im))\n",
    "im = numpy.array(im)\n",
    "print(type(im)) \n",
    "\n",
    "cv_img = im.astype(np.uint8)\n",
    "cv_gray = cv2.cvtColor(cv_img, cv2.COLOR_RGB2GRAY)\n",
    "\n",
    "template = cv2.imread(\"filename.png\", cv2.IMREAD_GRAYSCALE)"
   ]
  },
  {
   "cell_type": "code",
   "execution_count": null,
   "metadata": {},
   "outputs": [],
   "source": []
  }
 ],
 "metadata": {
  "kernelspec": {
   "display_name": "Python 3",
   "language": "python",
   "name": "python3"
  },
  "language_info": {
   "codemirror_mode": {
    "name": "ipython",
    "version": 3
   },
   "file_extension": ".py",
   "mimetype": "text/x-python",
   "name": "python",
   "nbconvert_exporter": "python",
   "pygments_lexer": "ipython3",
   "version": "3.7.7"
  },
  "latex_envs": {
   "LaTeX_envs_menu_present": true,
   "autoclose": true,
   "autocomplete": true,
   "bibliofile": "biblio.bib",
   "cite_by": "apalike",
   "current_citInitial": 1,
   "eqLabelWithNumbers": true,
   "eqNumInitial": 1,
   "hotkeys": {
    "equation": "Ctrl-E",
    "itemize": "Ctrl-I"
   },
   "labels_anchors": false,
   "latex_user_defs": false,
   "report_style_numbering": false,
   "user_envs_cfg": false
  },
  "toc": {
   "base_numbering": 1,
   "nav_menu": {},
   "number_sections": false,
   "sideBar": true,
   "skip_h1_title": false,
   "title_cell": "Table of Contents",
   "title_sidebar": "Contents",
   "toc_cell": false,
   "toc_position": {},
   "toc_section_display": true,
   "toc_window_display": true
  }
 },
 "nbformat": 4,
 "nbformat_minor": 4
}
